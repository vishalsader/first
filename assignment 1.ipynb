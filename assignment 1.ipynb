{
 "cells": [
  {
   "cell_type": "code",
   "execution_count": 1,
   "id": "85d5bba8",
   "metadata": {},
   "outputs": [],
   "source": [
    "#factorial of number\n"
   ]
  },
  {
   "cell_type": "code",
   "execution_count": 10,
   "id": "f73ceda3",
   "metadata": {},
   "outputs": [
    {
     "name": "stdout",
     "output_type": "stream",
     "text": [
      "120\n"
     ]
    }
   ],
   "source": [
    "def fun(num):\n",
    "    \n",
    "    if(num<0):\n",
    "        return 0\n",
    "    elif num==0 or num==1:\n",
    "        return 1\n",
    "    else:\n",
    "        fact=1\n",
    "        while(num>1):\n",
    "            fact=fact*num\n",
    "            num=num-1\n",
    "        return fact\n",
    "print(fun(5))"
   ]
  },
  {
   "cell_type": "code",
   "execution_count": null,
   "id": "e6f1847a",
   "metadata": {},
   "outputs": [],
   "source": [
    "#prime no\n"
   ]
  },
  {
   "cell_type": "code",
   "execution_count": 18,
   "id": "6fd1b294",
   "metadata": {},
   "outputs": [
    {
     "name": "stdout",
     "output_type": "stream",
     "text": [
      "8  is not a prime no\n",
      "None\n"
     ]
    }
   ],
   "source": [
    "def fun(num):\n",
    "    if(num>1):\n",
    "        for i in range(2,int(num/2)):\n",
    "            if(num%i==0):\n",
    "                print(num,\" is not a prime no\")\n",
    "                break\n",
    "            else:\n",
    "                \n",
    "                print(num,\" is a prime no\")\n",
    "    else:\n",
    "        print(num,\" is not a prime no\")\n",
    "print(fun(8))"
   ]
  },
  {
   "cell_type": "code",
   "execution_count": null,
   "id": "d512e7e6",
   "metadata": {},
   "outputs": [],
   "source": []
  }
 ],
 "metadata": {
  "kernelspec": {
   "display_name": "Python 3 (ipykernel)",
   "language": "python",
   "name": "python3"
  },
  "language_info": {
   "codemirror_mode": {
    "name": "ipython",
    "version": 3
   },
   "file_extension": ".py",
   "mimetype": "text/x-python",
   "name": "python",
   "nbconvert_exporter": "python",
   "pygments_lexer": "ipython3",
   "version": "3.9.10"
  }
 },
 "nbformat": 4,
 "nbformat_minor": 5
}
