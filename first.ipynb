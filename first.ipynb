{
 "cells": [
  {
   "cell_type": "code",
   "execution_count": 1,
   "id": "bce744e8",
   "metadata": {},
   "outputs": [],
   "source": [
    "#list\n",
    "list=[1,2,5,2,86,45,100,True,False,'a']"
   ]
  },
  {
   "cell_type": "code",
   "execution_count": 2,
   "id": "a5d5df23",
   "metadata": {},
   "outputs": [
    {
     "name": "stdout",
     "output_type": "stream",
     "text": [
      "[1, 2, 5, 2, 86, 45, 100, True, False, 'a']\n"
     ]
    }
   ],
   "source": [
    "print(list)"
   ]
  },
  {
   "cell_type": "code",
   "execution_count": 3,
   "id": "4be069d2",
   "metadata": {},
   "outputs": [
    {
     "name": "stdout",
     "output_type": "stream",
     "text": [
      "2\n"
     ]
    }
   ],
   "source": [
    "print(list[3])"
   ]
  },
  {
   "cell_type": "code",
   "execution_count": 4,
   "id": "52ee5b79",
   "metadata": {},
   "outputs": [
    {
     "data": {
      "text/plain": [
       "list"
      ]
     },
     "execution_count": 4,
     "metadata": {},
     "output_type": "execute_result"
    }
   ],
   "source": [
    "#type\n",
    "type(list)\n"
   ]
  },
  {
   "cell_type": "code",
   "execution_count": 5,
   "id": "5e2e450b",
   "metadata": {},
   "outputs": [],
   "source": [
    "#change value\n",
    "list[9]=34"
   ]
  },
  {
   "cell_type": "code",
   "execution_count": 6,
   "id": "fe0ae415",
   "metadata": {},
   "outputs": [
    {
     "name": "stdout",
     "output_type": "stream",
     "text": [
      "[1, 2, 5, 2, 86, 45, 100, True, False, 34]\n"
     ]
    }
   ],
   "source": [
    "print(list)\n"
   ]
  },
  {
   "cell_type": "code",
   "execution_count": 7,
   "id": "fa4a5c4d",
   "metadata": {},
   "outputs": [
    {
     "name": "stdout",
     "output_type": "stream",
     "text": [
      "[1, 5, 86, 100, False]\n"
     ]
    }
   ],
   "source": [
    "#create syblist -slicing\n",
    "print(list[0:9:2])"
   ]
  },
  {
   "cell_type": "code",
   "execution_count": 9,
   "id": "d12ac800",
   "metadata": {},
   "outputs": [
    {
     "name": "stdout",
     "output_type": "stream",
     "text": [
      "[1, 2, 5, 2, 86, 45, 100, True, False, 34, 50]\n"
     ]
    }
   ],
   "source": [
    "\"\"\"append-adding value in the last at list\"\"\"\n",
    "list.append(50)\n",
    "print(list)"
   ]
  },
  {
   "cell_type": "code",
   "execution_count": 10,
   "id": "554f35c7",
   "metadata": {},
   "outputs": [
    {
     "name": "stdout",
     "output_type": "stream",
     "text": [
      "[1, 2, 5, 2, 86, 45, 100, True, False, 34, 50, 8, 56, 78]\n"
     ]
    }
   ],
   "source": [
    "\"\"\"extend-adding more than one elements in the list at last\"\"\"\n",
    "list.extend([8,56,78])\n",
    "print(list)\n"
   ]
  },
  {
   "cell_type": "code",
   "execution_count": 12,
   "id": "01a8d2ec",
   "metadata": {},
   "outputs": [
    {
     "name": "stdout",
     "output_type": "stream",
     "text": [
      "[20, 1, 2, 5, 20, 2, 86, 45, 100, True, False, 34, 50, 8, 56, 78]\n"
     ]
    }
   ],
   "source": [
    "list.insert(4,20)\n",
    "print(list)"
   ]
  },
  {
   "cell_type": "code",
   "execution_count": 13,
   "id": "5e6201b1",
   "metadata": {},
   "outputs": [
    {
     "name": "stdout",
     "output_type": "stream",
     "text": [
      "[20, 1, 5, 20, 2, 86, 45, 100, True, False, 34, 50, 8, 56, 78]\n"
     ]
    }
   ],
   "source": [
    "\n",
    "#pop\n",
    "list.pop(2)\n",
    "print(list)"
   ]
  },
  {
   "cell_type": "code",
   "execution_count": 14,
   "id": "74ce2e4f",
   "metadata": {},
   "outputs": [
    {
     "name": "stdout",
     "output_type": "stream",
     "text": [
      "(1, 2, 3, 4, 5)\n"
     ]
    }
   ],
   "source": [
    "ms=(1,2,3,4,5)\n",
    "print(ms)"
   ]
  },
  {
   "cell_type": "code",
   "execution_count": 16,
   "id": "0ed41d56",
   "metadata": {},
   "outputs": [
    {
     "name": "stdout",
     "output_type": "stream",
     "text": [
      "(1, 2, 3, 4, True)\n"
     ]
    }
   ],
   "source": [
    "ms=(1,2,3,4,True)\n",
    "print(ms)"
   ]
  },
  {
   "cell_type": "code",
   "execution_count": 17,
   "id": "1a6bb004",
   "metadata": {},
   "outputs": [
    {
     "name": "stdout",
     "output_type": "stream",
     "text": [
      "{'name': 'vishal', 'address': 'khour'}\n"
     ]
    }
   ],
   "source": [
    "#dictionary  -key values\n",
    "d={\"name\":\"vishal\",\"address\":\"khour\"}\n",
    "print(d)"
   ]
  },
  {
   "cell_type": "code",
   "execution_count": 18,
   "id": "1a2192a3",
   "metadata": {},
   "outputs": [
    {
     "name": "stdout",
     "output_type": "stream",
     "text": [
      "dict_keys(['name', 'address'])\n"
     ]
    }
   ],
   "source": [
    "\n",
    "print(d.keys())"
   ]
  },
  {
   "cell_type": "code",
   "execution_count": null,
   "id": "18561321",
   "metadata": {},
   "outputs": [],
   "source": []
  }
 ],
 "metadata": {
  "kernelspec": {
   "display_name": "Python 3 (ipykernel)",
   "language": "python",
   "name": "python3"
  },
  "language_info": {
   "codemirror_mode": {
    "name": "ipython",
    "version": 3
   },
   "file_extension": ".py",
   "mimetype": "text/x-python",
   "name": "python",
   "nbconvert_exporter": "python",
   "pygments_lexer": "ipython3",
   "version": "3.9.10"
  }
 },
 "nbformat": 4,
 "nbformat_minor": 5
}
